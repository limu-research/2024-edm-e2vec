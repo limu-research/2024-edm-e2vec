{
 "cells": [
  {
   "cell_type": "markdown",
   "metadata": {},
   "source": [
    "## Making CodeBook"
   ]
  },
  {
   "cell_type": "code",
   "execution_count": null,
   "metadata": {},
   "outputs": [],
   "source": [
    "import pandas as pd\n",
    "import numpy as np\n",
    "from pyclustering.cluster import kmeans\n",
    "from pyclustering.cluster.center_initializer import kmeans_plusplus_initializer\n",
    "from pyclustering.utils.metric import distance_metric, type_metric\n",
    "import matplotlib.pyplot as plt\n",
    "import random"
   ]
  },
  {
   "cell_type": "code",
   "execution_count": null,
   "metadata": {},
   "outputs": [],
   "source": [
    "random.seed(42)"
   ]
  },
  {
   "cell_type": "code",
   "execution_count": null,
   "metadata": {},
   "outputs": [],
   "source": [
    "Code_Book_dir = r\".\\data\\code_book\"\n",
    "Actions_dir = r\".\\data\\actions_txt\"\n",
    "model_path = r\".\\model\""
   ]
  },
  {
   "cell_type": "code",
   "execution_count": null,
   "metadata": {},
   "outputs": [],
   "source": [
    "def cosine_distance(x1, x2):\n",
    "    if len(x1.shape) == 1:\n",
    "        return 1 - np.dot(x1, x2) / (np.linalg.norm(x1) * np.linalg.norm(x2))\n",
    "    else:\n",
    "        return 1 - np.sum(np.multiply(x1, x2), axis=1) / (np.linalg.norm(x1, axis=1) * np.linalg.norm(x2, axis=1))"
   ]
  },
  {
   "cell_type": "markdown",
   "metadata": {},
   "source": [
    "Making CodeBook from Action vectors"
   ]
  },
  {
   "cell_type": "markdown",
   "metadata": {},
   "source": [
    "### read action vectors in ALL2020 (created in 2_train_fastText)"
   ]
  },
  {
   "cell_type": "code",
   "execution_count": null,
   "metadata": {},
   "outputs": [],
   "source": [
    "# ALL-2020\n",
    "all20_action_vectors_df = pd.read_csv(Code_Book_dir+r\"\\for_CodeBook_ALL-2020.csv\",index_col=0)\n",
    "# display the number of actions in ALL-2020\n",
    "print(len(all20_action_vectors_df))\n",
    "# drop duplicate actions (if the action exist in sevarel times in this datasets, using one time to clursting)\n",
    "all20_action_vectors_df.index.name = \"action\"\n",
    "all20_action_vectors_df = all20_action_vectors_df.reset_index()\n",
    "dd_action_vectors_df = all20_action_vectors_df.drop_duplicates(\"action\")\n",
    "dd_action_vectors_df = dd_action_vectors_df.set_index(\"action\")\n",
    "dd_action_vectors_df = dd_action_vectors_df[~dd_action_vectors_df.index.isnull()]\n",
    "# display the number of unique actions\n",
    "print(len(dd_action_vectors_df))\n",
    "dd_action_vectors_df "
   ]
  },
  {
   "cell_type": "code",
   "execution_count": null,
   "metadata": {},
   "outputs": [],
   "source": [
    "# save this action vectors \n",
    "dd_action_vectors_df.to_csv(r\"./data2/vectors/dd_actions_ALL-2020.csv\")"
   ]
  },
  {
   "cell_type": "markdown",
   "metadata": {},
   "source": [
    "### k-means++ clustreing (dist=cosine similarity) "
   ]
  },
  {
   "cell_type": "code",
   "execution_count": null,
   "metadata": {},
   "outputs": [],
   "source": [
    "for k in [10,100, 50,200,300]:\n",
    "    # k == the number of centroids\n",
    "    labels_list = [0* j  for j in range(len(dd_action_vectors_df))]\n",
    "    print(k)\n",
    "    X =dd_action_vectors_df.values\n",
    "    initial_centers = kmeans_plusplus_initializer(X, k,random_state=42).initialize()\n",
    "    s_pc_km = kmeans.kmeans(X, initial_centers, metric=distance_metric(type_metric.USER_DEFINED, func=cosine_distance))\n",
    "    s_pc_km.process()\n",
    "    s_cent_df = pd.DataFrame(s_pc_km.get_centers()) \n",
    "    labels = s_pc_km.get_clusters()\n",
    "    s_cent_df.to_csv(Code_Book_dir+r\"\\CodeBook_k{}.csv\".format(k))\n",
    "    \n",
    "    # save actions cluster number\n",
    "    for num in range(k):\n",
    "        label_k = labels[num]\n",
    "        for one_label in label_k:\n",
    "            labels_list[one_label] = num\n",
    "    s_cluster_df = pd.DataFrame(labels_list,index=dd_action_vectors_df.index,columns=[\"cluster\"]) \n",
    "    s_cluster_df.to_csv(Code_Book_dir+r\"\\Actions_clusternum_k{}.csv\".format(k))\n"
   ]
  },
  {
   "cell_type": "markdown",
   "metadata": {},
   "source": [
    "### with A-2020 and D-2020"
   ]
  },
  {
   "cell_type": "markdown",
   "metadata": {},
   "source": [
    "to compare the F1-score of at-risk prediction, actions in A-2020 and D-2020 also clustring"
   ]
  },
  {
   "cell_type": "code",
   "execution_count": null,
   "metadata": {},
   "outputs": [],
   "source": [
    "# A-2020\n",
    "a20_action_vectors_df = pd.read_csv(Code_Book_dir+r\"\\for_CodeBook_A-2020.csv\",index_col=0)\n",
    "print(len(a20_action_vectors_df))\n",
    "a20_action_vectors_df.index.name = \"action\"\n",
    "a20_action_vectors_df = a20_action_vectors_df.reset_index()\n",
    "dd_action_vectors_df = a20_action_vectors_df.drop_duplicates(\"action\")\n",
    "dd_action_vectors_df = dd_action_vectors_df.set_index(\"action\")\n",
    "dd_action_vectors_df = dd_action_vectors_df[~dd_action_vectors_df.index.isnull()]\n",
    "dd_action_vectors_df "
   ]
  },
  {
   "cell_type": "code",
   "execution_count": null,
   "metadata": {},
   "outputs": [],
   "source": [
    "dd_action_vectors_df.to_csv(r\"./data2/vectors/dd_actions_A20.csv\")"
   ]
  },
  {
   "cell_type": "code",
   "execution_count": null,
   "metadata": {},
   "outputs": [],
   "source": [
    "for k in [100]:\n",
    "    # k == the number of centroids\n",
    "    labels_list = [0* j  for j in range(len(dd_action_vectors_df))]\n",
    "    X =dd_action_vectors_df.values\n",
    "    initial_centers = kmeans_plusplus_initializer(X, k,random_state=42).initialize()\n",
    "    s_pc_km = kmeans.kmeans(X, initial_centers, metric=distance_metric(type_metric.USER_DEFINED, func=cosine_distance))\n",
    "    s_pc_km.process()\n",
    "    s_cent_df = pd.DataFrame(s_pc_km.get_centers()) \n",
    "    labels = s_pc_km.get_clusters()\n",
    "    s_cent_df.to_csv(Code_Book_dir+r\"\\CodeBook_k{}_A20.csv\".format(k))\n",
    "    \n",
    "\n",
    "    for num in range(k):\n",
    "        label_k = labels[num]\n",
    "        for one_label in label_k:\n",
    "            labels_list[one_label] = num\n",
    "    s_cluster_df = pd.DataFrame(labels_list,index=dd_action_vectors_df.index,columns=[\"cluster\"]) \n",
    "    s_cluster_df.to_csv(Code_Book_dir+r\"\\Actions_clusternum_k{}_A20.csv\".format(k))"
   ]
  },
  {
   "cell_type": "code",
   "execution_count": null,
   "metadata": {},
   "outputs": [],
   "source": [
    "# D-2020\n",
    "d20_action_vectors_df = pd.read_csv(Code_Book_dir+r\"\\for_CodeBook_D-2020.csv\",index_col=0)\n",
    "print(len(d20_action_vectors_df))\n",
    "d20_action_vectors_df.index.name = \"action\"\n",
    "d20_action_vectors_df = d20_action_vectors_df.reset_index()\n",
    "dd_action_vectors_df = d20_action_vectors_df.drop_duplicates(\"action\")\n",
    "dd_action_vectors_df = dd_action_vectors_df.set_index(\"action\")\n",
    "dd_action_vectors_df = dd_action_vectors_df[~dd_action_vectors_df.index.isnull()]\n",
    "dd_action_vectors_df "
   ]
  },
  {
   "cell_type": "code",
   "execution_count": null,
   "metadata": {},
   "outputs": [],
   "source": [
    "dd_action_vectors_df.to_csv(r\"./data2/vectors/dd_actions_D20.csv\")"
   ]
  },
  {
   "cell_type": "code",
   "execution_count": null,
   "metadata": {},
   "outputs": [],
   "source": [
    "for k in [100]:\n",
    "    # k == the number of centroids\n",
    "    labels_list = [0* j  for j in range(len(dd_action_vectors_df))]\n",
    "    X =dd_action_vectors_df.values\n",
    "    initial_centers = kmeans_plusplus_initializer(X, k,random_state=42).initialize()\n",
    "    s_pc_km = kmeans.kmeans(X, initial_centers, metric=distance_metric(type_metric.USER_DEFINED, func=cosine_distance))\n",
    "    s_pc_km.process()\n",
    "    s_cent_df = pd.DataFrame(s_pc_km.get_centers()) \n",
    "    labels = s_pc_km.get_clusters()\n",
    "    s_cent_df.to_csv(Code_Book_dir+r\"\\CodeBook_k{}_D20.csv\".format(k))\n",
    "    \n",
    "\n",
    "    for num in range(k):\n",
    "        label_k = labels[num]\n",
    "        for one_label in label_k:\n",
    "            #print(one_label)\n",
    "            labels_list[one_label] = num\n",
    "    s_cluster_df = pd.DataFrame(labels_list,index=dd_action_vectors_df.index,columns=[\"cluster\"]) \n",
    "    s_cluster_df.to_csv(Code_Book_dir+r\"\\Actions_clusternum_k{}_D20.csv\".format(k))"
   ]
  }
 ],
 "metadata": {
  "kernelspec": {
   "display_name": "Python 3",
   "language": "python",
   "name": "python3"
  },
  "language_info": {
   "codemirror_mode": {
    "name": "ipython",
    "version": 3
   },
   "file_extension": ".py",
   "mimetype": "text/x-python",
   "name": "python",
   "nbconvert_exporter": "python",
   "pygments_lexer": "ipython3",
   "version": "3.8.5"
  }
 },
 "nbformat": 4,
 "nbformat_minor": 2
}
