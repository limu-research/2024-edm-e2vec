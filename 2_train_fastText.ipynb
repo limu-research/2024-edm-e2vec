{
 "cells": [
  {
   "cell_type": "markdown",
   "metadata": {},
   "source": [
    "## fastText Trainning"
   ]
  },
  {
   "cell_type": "code",
   "execution_count": null,
   "metadata": {},
   "outputs": [],
   "source": [
    "import fasttext as ft\n",
    "import pandas as pd\n",
    "import numpy as np\n",
    "from sklearn.metrics.pairwise import cosine_similarity\n",
    "import seaborn as sns\n",
    "import matplotlib.pyplot as plt"
   ]
  },
  {
   "cell_type": "code",
   "execution_count": null,
   "metadata": {},
   "outputs": [],
   "source": [
    "epoch = 30\n",
    "dim = 100\n",
    "actions_txt_path = r\".\\data\\actions_txt\"\n",
    "Edudata = r'.\\data\\EduData_20221028'\n",
    "model_path = r\".\\model\"\n",
    "course = \"ALL-2020\""
   ]
  },
  {
   "cell_type": "code",
   "execution_count": null,
   "metadata": {},
   "outputs": [],
   "source": [
    "import random\n",
    "random.seed(42)"
   ]
  },
  {
   "cell_type": "code",
   "execution_count": null,
   "metadata": {},
   "outputs": [],
   "source": [
    "# training fastText model\n",
    "##model = ft.train_unsupervised(actions_txt_path + r\"\\actions_{}.txt\".format(course),  model='skipgram',minCount=1, dim=dim, epoch=epoch)\n",
    "##model.save_model(model_path+r\"\\fastText_train{}_{}dim_{}epoch.bin\".format(course,dim,epoch))"
   ]
  },
  {
   "cell_type": "code",
   "execution_count": null,
   "metadata": {},
   "outputs": [],
   "source": [
    "# model that is used in our paper\n",
    "#model = ft.load_model(r\".\\model\\fasttext_ALL-2020_paperused.bin\")\n",
    "model = ft.load_model(model_path+r\"\\fastText_train{}_{}dim_{}epoch.bin\".format(course,dim,epoch))"
   ]
  },
  {
   "cell_type": "code",
   "execution_count": null,
   "metadata": {},
   "outputs": [],
   "source": [
    "print(len(model.words))"
   ]
  },
  {
   "cell_type": "code",
   "execution_count": null,
   "metadata": {},
   "outputs": [],
   "source": [
    "model.words"
   ]
  },
  {
   "cell_type": "markdown",
   "metadata": {},
   "source": [
    "## Section 5"
   ]
  },
  {
   "cell_type": "markdown",
   "metadata": {},
   "source": [
    "### Table6"
   ]
  },
  {
   "cell_type": "code",
   "execution_count": null,
   "metadata": {},
   "outputs": [],
   "source": [
    "model.get_nearest_neighbors(\"Nm\")"
   ]
  },
  {
   "cell_type": "markdown",
   "metadata": {},
   "source": [
    "### Table7"
   ]
  },
  {
   "cell_type": "code",
   "execution_count": null,
   "metadata": {},
   "outputs": [],
   "source": [
    "model.get_nearest_neighbors(\"NNNNsNmNsNsPl\")"
   ]
  },
  {
   "cell_type": "markdown",
   "metadata": {},
   "source": [
    "### Figure 3"
   ]
  },
  {
   "cell_type": "code",
   "execution_count": null,
   "metadata": {},
   "outputs": [],
   "source": [
    "# load all units of D-2022 \n",
    "units = ft.load_model(r\".\\model\\fastText_trainD-2022_100dim_30epoch.bin\").words"
   ]
  },
  {
   "cell_type": "code",
   "execution_count": null,
   "metadata": {},
   "outputs": [],
   "source": [
    "# make DataFrame index = unit, values = unit vector  \n",
    "unit_df = pd.DataFrame()\n",
    "for unit in units:\n",
    "    u_vec = model.get_word_vector(unit)\n",
    "    u_s = pd.DataFrame(np.array(u_vec).reshape(1,100))\n",
    "    unit_df = pd.concat([unit_df,u_s])\n",
    "unit_df[\"word\"] = units\n",
    "unit_df = unit_df.set_index(\"word\")"
   ]
  },
  {
   "cell_type": "code",
   "execution_count": null,
   "metadata": {},
   "outputs": [],
   "source": [
    "unit_df"
   ]
  },
  {
   "cell_type": "code",
   "execution_count": null,
   "metadata": {},
   "outputs": [],
   "source": [
    "# sim_units : cosine similarity matrix of units\n",
    "sim_units = cosine_similarity(unit_df)\n",
    "#print(sim_units.shape)\n",
    "sim_units"
   ]
  },
  {
   "cell_type": "code",
   "execution_count": null,
   "metadata": {},
   "outputs": [],
   "source": [
    "# Nm (a sample of words in fastText Training data)\n",
    "nm_sim = sim_units[1]\n",
    "print(unit_df.index[1])\n",
    "\n",
    "plt.xlabel(\"Cosine similarity\")\n",
    "plt.ylabel(\"Frequency\")\n",
    "plt.hist(nm_sim)"
   ]
  },
  {
   "cell_type": "code",
   "execution_count": null,
   "metadata": {},
   "outputs": [],
   "source": [
    "# NNNNsNmNsNsPl (a sample of words not in fastText Training data)\n",
    "nm_sim = sim_units[-1]\n",
    "nm_sim\n",
    "print(unit_df.index[-1])\n",
    "\n",
    "plt.xlabel(\"Cosine similarity\")\n",
    "plt.ylabel(\"Frequency\")\n",
    "plt.hist(nm_sim)"
   ]
  },
  {
   "cell_type": "code",
   "execution_count": null,
   "metadata": {},
   "outputs": [],
   "source": [
    "bins = np.histogram_bin_edges(np.concatenate((sim_units[1], sim_units[-1])), bins=20)\n",
    "\n",
    "# draw histgram\n",
    "n1, _ = np.histogram(sim_units[1], bins=bins)\n",
    "n2, _ = np.histogram(sim_units[-1], bins=bins)\n",
    "\n",
    "plt.hist(bins[:-1],bins, weights=n1, alpha=0.5, label=\"Nm\")\n",
    "plt.hist(bins[:-1], bins, weights=n2, alpha=0.5, label=\"NNNsNmNsNsPl\")\n",
    "plt.legend()\n",
    "max_height = max(max(n1), max(n2))\n",
    "plt.ylim(0, max_height)\n",
    "plt.xlabel('Cosine Similarity')\n",
    "plt.ylabel('The number of units')\n",
    "plt.show()"
   ]
  },
  {
   "cell_type": "markdown",
   "metadata": {},
   "source": [
    "## generate ALL-2020's action vectors (for making Codebook)"
   ]
  },
  {
   "cell_type": "code",
   "execution_count": null,
   "metadata": {},
   "outputs": [],
   "source": [
    "course = \"ALL-2020\"\n",
    "actions_file = actions_txt_path + r\"\\actions_{}.txt\".format(course)\n",
    "vecs = []\n",
    "actions = []\n",
    "with open(actions_file, \"r\") as f:\n",
    "    # lies of text is action \n",
    "    t_actions = f.readlines()\n",
    "    for t_action in t_actions:\n",
    "            t_action = t_action.rstrip(\"\\n\") \n",
    "            # generate an action vector\n",
    "            vec = model.get_sentence_vector(t_action)\n",
    "            ##print(t_action, np.linalg.norm(vec))\n",
    "            vecs.append(vec)\n",
    "            actions.append(t_action)\n",
    "len(actions)"
   ]
  },
  {
   "cell_type": "code",
   "execution_count": null,
   "metadata": {},
   "outputs": [],
   "source": [
    "# A-2020 と D-2020を結合したときに生じた''を削除\n",
    "# Delete zero vector generated from '' in textfile.\n",
    "# '' is generated by concatination step.\n",
    "df = pd.DataFrame(vecs, index=actions)\n",
    "df = df[~(df.index=='')]"
   ]
  },
  {
   "cell_type": "code",
   "execution_count": null,
   "metadata": {},
   "outputs": [],
   "source": [
    "# save all action vectors in ALL-2020\n",
    "df.to_csv(r\".\\data2\\code_book\\for_CodeBook_{}.csv\".format(course))"
   ]
  },
  {
   "cell_type": "markdown",
   "metadata": {},
   "source": [
    "## for comparsion: action text file from EventStream A-2020 and D-2020"
   ]
  },
  {
   "cell_type": "code",
   "execution_count": null,
   "metadata": {},
   "outputs": [],
   "source": [
    "course = \"D-2020\" # A-2020\n",
    "# load fastText model trained by course data\n",
    "model = ft.load_model(r\".\\model\\fastText_train{}_100dim_30epoch.bin\".format(course))\n",
    "actions_file = actions_txt_path + r\"\\actions_{}.txt\".format(course)\n",
    "vecs = []\n",
    "actions = []\n",
    "with open(actions_file, \"r\") as f:\n",
    "    t_actions = f.readlines()\n",
    "    for t_action in t_actions:\n",
    "        t_action = t_action.rstrip(\"\\n\") \n",
    "        vec = model.get_sentence_vector(t_action)\n",
    "        vecs.append(vec)\n",
    "        actions.append(t_action)"
   ]
  },
  {
   "cell_type": "code",
   "execution_count": null,
   "metadata": {},
   "outputs": [],
   "source": [
    "df = pd.DataFrame(vecs, index=actions)\n",
    "df"
   ]
  },
  {
   "cell_type": "code",
   "execution_count": null,
   "metadata": {},
   "outputs": [],
   "source": [
    "df.to_csv(r\".\\data2\\code_book\\for_CodeBook_{}.csv\".format(course))"
   ]
  }
 ],
 "metadata": {
  "kernelspec": {
   "display_name": "Python 3",
   "language": "python",
   "name": "python3"
  },
  "language_info": {
   "codemirror_mode": {
    "name": "ipython",
    "version": 3
   },
   "file_extension": ".py",
   "mimetype": "text/x-python",
   "name": "python",
   "nbconvert_exporter": "python",
   "pygments_lexer": "ipython3",
   "version": "3.8.7"
  }
 },
 "nbformat": 4,
 "nbformat_minor": 2
}
