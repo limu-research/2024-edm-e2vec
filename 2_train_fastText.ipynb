{
 "cells": [
  {
   "cell_type": "markdown",
   "metadata": {},
   "source": [
    "### fastText Trainning"
   ]
  },
  {
   "cell_type": "code",
   "execution_count": null,
   "metadata": {},
   "outputs": [],
   "source": [
    "import fasttext as ft\n",
    "import pandas as pd\n",
    "import numpy as np\n",
    "from sklearn.metrics.pairwise import cosine_similarity\n",
    "import seaborn as sns\n",
    "import matplotlib.pyplot as plt"
   ]
  },
  {
   "cell_type": "code",
   "execution_count": null,
   "metadata": {},
   "outputs": [],
   "source": [
    "epoch = 30\n",
    "dim = 100\n",
    "actions_txt_path = r\".\\data\\actions_txt\"\n",
    "Edudata = r'.\\data\\EduData_20221028'\n",
    "model_path = r\".\\model\"\n",
    "course = \"ALL-2020\""
   ]
  },
  {
   "cell_type": "code",
   "execution_count": null,
   "metadata": {},
   "outputs": [],
   "source": [
    "# training fastText model\n",
    "model = ft.train_unsupervised(actions_txt_path + r\"\\actions_ALL-2020.txt\",  model='skipgram',minCount=1, dim=dim, epoch=epoch)\n",
    "model.save_model(model_path+r\"\\fastText_train{}_{}dim_{}epoch.bin\".format(course,dim,epoch))"
   ]
  },
  {
   "cell_type": "code",
   "execution_count": null,
   "metadata": {},
   "outputs": [],
   "source": [
    "# model that is used in our paper\n",
    "model = ft.load_model(r\".\\model\\fasttext_ALL-2020_paperused.bin\")"
   ]
  },
  {
   "cell_type": "markdown",
   "metadata": {},
   "source": [
    "# Section 5"
   ]
  },
  {
   "cell_type": "markdown",
   "metadata": {},
   "source": [
    "### Table6"
   ]
  },
  {
   "cell_type": "code",
   "execution_count": null,
   "metadata": {},
   "outputs": [],
   "source": [
    "model.get_nearest_neighbors(\"Nm\")"
   ]
  },
  {
   "cell_type": "markdown",
   "metadata": {},
   "source": [
    "### Table7"
   ]
  },
  {
   "cell_type": "code",
   "execution_count": null,
   "metadata": {},
   "outputs": [],
   "source": [
    "model.get_nearest_neighbors(\"NNNNsNmNsNsPl\")"
   ]
  },
  {
   "cell_type": "markdown",
   "metadata": {},
   "source": [
    "### Figure 5 & 6"
   ]
  },
  {
   "cell_type": "code",
   "execution_count": null,
   "metadata": {},
   "outputs": [],
   "source": [
    "words = ft.load_model(r\"C:\\Users\\miyazakiyuma\\code\\python\\EDM_src\\model\\forFig5_6_wordsD-2022.bin\").words"
   ]
  },
  {
   "cell_type": "code",
   "execution_count": null,
   "metadata": {},
   "outputs": [],
   "source": [
    "word_df = pd.DataFrame()\n",
    "for word in words:\n",
    "    w_vec = model.get_word_vector(word)\n",
    "    w_s = pd.DataFrame(np.array(w_vec).reshape(1,100))\n",
    "    word_df = pd.concat([word_df,w_s])\n",
    "word_df[\"word\"] = words\n",
    "word_df = word_df.set_index(\"word\")"
   ]
  },
  {
   "cell_type": "code",
   "execution_count": null,
   "metadata": {},
   "outputs": [],
   "source": [
    "word_df"
   ]
  },
  {
   "cell_type": "code",
   "execution_count": null,
   "metadata": {},
   "outputs": [],
   "source": [
    "sim_wrods = cosine_similarity(word_df)"
   ]
  },
  {
   "cell_type": "code",
   "execution_count": null,
   "metadata": {},
   "outputs": [],
   "source": [
    "# NNNNsNmNsNsPl (a sample of words in fastText Training data)\n",
    "nm_sim = sim_wrods[1]\n",
    "nm_sim\n",
    "hist, bins = np.histogram(nm_sim,bins=20)\n",
    "plt.xlabel(\"Cosine similarity\")\n",
    "plt.ylabel(\"Frequency\")\n",
    "plt.hist(nm_sim)"
   ]
  },
  {
   "cell_type": "code",
   "execution_count": null,
   "metadata": {},
   "outputs": [],
   "source": [
    "# NNNNsNmNsNsPl (a sample of words not in fastText Training data)\n",
    "nm_sim = sim_wrods[-1]\n",
    "nm_sim\n",
    "hist, bins = np.histogram(nm_sim,bins=20)\n",
    "plt.xlabel(\"Cosine similarity\")\n",
    "plt.ylabel(\"Frequency\")\n",
    "plt.hist(nm_sim)"
   ]
  },
  {
   "cell_type": "markdown",
   "metadata": {},
   "source": [
    "### generate ALL-2020's action vectors (for making Codebook)"
   ]
  },
  {
   "cell_type": "code",
   "execution_count": null,
   "metadata": {},
   "outputs": [],
   "source": [
    "course = \"ALL-2020\"\n",
    "actions_file = actions_txt_path + r\"\\actions_{}.txt\".format(course)\n",
    "vecs = []\n",
    "actions = []\n",
    "with open(actions_file, \"r\") as f:\n",
    "    t_actions = f.readlines()\n",
    "    for t_action in t_actions:\n",
    "        t_action = t_action.rstrip(\"\\n\") \n",
    "        vec = model.get_sentence_vector(t_action)\n",
    "        vecs.append(vec)\n",
    "        actions.append(t_action)"
   ]
  },
  {
   "cell_type": "code",
   "execution_count": null,
   "metadata": {},
   "outputs": [],
   "source": [
    "vecs"
   ]
  },
  {
   "cell_type": "code",
   "execution_count": null,
   "metadata": {},
   "outputs": [],
   "source": [
    "df = pd.DataFrame(vecs, index=actions)\n",
    "df"
   ]
  },
  {
   "cell_type": "code",
   "execution_count": null,
   "metadata": {},
   "outputs": [],
   "source": [
    "df.to_csv(r\".\\data\\code_book\\for_CodeBook_{}.csv\".format(course))"
   ]
  },
  {
   "cell_type": "markdown",
   "metadata": {},
   "source": [
    "### for comparsion: action text file from EventStream A-2020 and D-2020"
   ]
  },
  {
   "cell_type": "code",
   "execution_count": null,
   "metadata": {},
   "outputs": [],
   "source": [
    "course = \"D-2020\" # A-2020\n",
    "model = ft.load_model(r\".\\model\\fasttext_{}_paperused.bin\".format(course))\n",
    "actions_file = actions_txt_path + r\"\\actions_{}.txt\".format(course)\n",
    "vecs = []\n",
    "actions = []\n",
    "with open(actions_file, \"r\") as f:\n",
    "    t_actions = f.readlines()\n",
    "    for t_action in t_actions:\n",
    "        t_action = t_action.rstrip(\"\\n\") \n",
    "        vec = model.get_sentence_vector(t_action)\n",
    "        vecs.append(vec)\n",
    "        actions.append(t_action)"
   ]
  },
  {
   "cell_type": "code",
   "execution_count": null,
   "metadata": {},
   "outputs": [],
   "source": [
    "df = pd.DataFrame(vecs, index=actions)\n",
    "df"
   ]
  },
  {
   "cell_type": "code",
   "execution_count": null,
   "metadata": {},
   "outputs": [],
   "source": [
    "df.to_csv(r\".\\data\\code_book\\for_CodeBook_{}.csv\".format(course))"
   ]
  }
 ],
 "metadata": {
  "kernelspec": {
   "display_name": "Python 3",
   "language": "python",
   "name": "python3"
  },
  "language_info": {
   "codemirror_mode": {
    "name": "ipython",
    "version": 3
   },
   "file_extension": ".py",
   "mimetype": "text/x-python",
   "name": "python",
   "nbconvert_exporter": "python",
   "pygments_lexer": "ipython3",
   "version": "3.8.7"
  }
 },
 "nbformat": 4,
 "nbformat_minor": 2
}
