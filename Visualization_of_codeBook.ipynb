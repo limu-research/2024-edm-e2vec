{
 "cells": [
  {
   "cell_type": "code",
   "execution_count": null,
   "metadata": {},
   "outputs": [],
   "source": [
    "import pandas as pd\n",
    "import numpy as np\n",
    "import umap\n",
    "import plotly.graph_objects as go\n",
    "from sklearn.metrics.pairwise import cosine_similarity\n",
    "import seaborn as sns\n",
    "import matplotlib.pyplot as plt"
   ]
  },
  {
   "cell_type": "code",
   "execution_count": null,
   "metadata": {},
   "outputs": [],
   "source": [
    "# load unique actions in ALL-2020\n",
    "action_vectior_df = pd.read_csv(r\".\\data\\vectors\\dd_actions_ALL-2020.csv\",index_col=0)\n",
    "action_vectior_df"
   ]
  },
  {
   "cell_type": "code",
   "execution_count": null,
   "metadata": {},
   "outputs": [],
   "source": [
    "# the result of k=10 clustering \n",
    "actions_file = r\".\\data\\code_book\\Actions_clusternum_k10.csv\"\n",
    "actions_df = pd.read_csv(actions_file,index_col=0)\n",
    "actions_df.reset_index(inplace=True)\n",
    "actions_df.rename(columns={\"index\":\"action\"},inplace=True)"
   ]
  },
  {
   "cell_type": "markdown",
   "metadata": {},
   "source": [
    "### UMAP visualization of all unique actions in ALL-2020"
   ]
  },
  {
   "cell_type": "code",
   "execution_count": null,
   "metadata": {},
   "outputs": [],
   "source": [
    "def colors(row):\n",
    "    colors_list = ['#1f77b4', '#ff7f0e', '#2ca02c', '#d62728', '#9467bd',\n",
    "          '#8c564b', '#e377c2', '#7f7f7f', '#bcbd22', '#17becf']\n",
    "    return colors_list[row[\"cluster\"]]"
   ]
  },
  {
   "cell_type": "code",
   "execution_count": null,
   "metadata": {},
   "outputs": [],
   "source": [
    "actions_df[\"colors\"] = \"\"\n",
    "actions_df[\"colors\"] = actions_df.apply(colors,axis=1)\n",
    "actions_df"
   ]
  },
  {
   "cell_type": "code",
   "execution_count": null,
   "metadata": {},
   "outputs": [],
   "source": [
    "umap_model = umap.UMAP(n_neighbors=5, min_dist=0.2,n_components=2,metric=\"cosine\")\n",
    "embedding = umap_model.fit_transform(action_vectior_df)\n",
    "\n",
    "\n",
    "# UMAP reduce 100dim to 2dim\n",
    "# Visualization of action vectors: \n",
    "scatter = plt.scatter(embedding[:, 0], embedding[:, 1], s=5, c=actions_df[\"colors\"])\n",
    "plt.title('UMAP Projection')\n",
    "plt.show()"
   ]
  },
  {
   "cell_type": "markdown",
   "metadata": {},
   "source": [
    "### Similarity matrix of 10 centroids "
   ]
  },
  {
   "cell_type": "code",
   "execution_count": null,
   "metadata": {},
   "outputs": [],
   "source": [
    "# load centroids vector\n",
    "centroids_df = pd.read_csv(r\".\\data\\code_book\\CodeBook_k10.csv\",index_col=0)\n",
    "centroids_df"
   ]
  },
  {
   "cell_type": "code",
   "execution_count": null,
   "metadata": {},
   "outputs": [],
   "source": [
    "similarity_matrix = cosine_similarity(centroids_df)\n",
    "plt.figure(figsize=(8, 6))\n",
    "sns.heatmap(similarity_matrix, annot=False, cmap='RdBu',vmin=-1, vmax=1,xticklabels=centroids_df.index, yticklabels=centroids_df.index)\n",
    "plt.title('Similarity Matrix Heatmap')\n",
    "plt.xlabel('centroids ID')\n",
    "plt.ylabel('centroids ID')\n",
    "plt.show()"
   ]
  },
  {
   "cell_type": "markdown",
   "metadata": {},
   "source": [
    "### Table 8"
   ]
  },
  {
   "cell_type": "code",
   "execution_count": null,
   "metadata": {},
   "outputs": [],
   "source": [
    "def action_length(value):\n",
    "    action = value.split(\" \")\n",
    "    return len(action)\n",
    "actions_df[\"length_action\"] = actions_df[\"action\"].apply(action_length)"
   ]
  },
  {
   "cell_type": "code",
   "execution_count": null,
   "metadata": {},
   "outputs": [],
   "source": [
    "actions_df"
   ]
  },
  {
   "cell_type": "code",
   "execution_count": null,
   "metadata": {},
   "outputs": [],
   "source": [
    "count_action = actions_df[[\"cluster\",\"length_action\"]].groupby(by=\"cluster\").count()\n",
    "max_length = actions_df[[\"cluster\",\"length_action\"]].groupby(by=\"cluster\").max()\n",
    "mean_length = actions_df[[\"cluster\",\"length_action\"]].groupby(by=\"cluster\").mean()\n",
    "var_length = actions_df[[\"cluster\",\"length_action\"]].groupby(by=\"cluster\").var()"
   ]
  },
  {
   "cell_type": "code",
   "execution_count": null,
   "metadata": {},
   "outputs": [],
   "source": [
    "data = pd.merge(max_length,mean_length, on=\"cluster\")\n",
    "data = pd.merge(data,var_length,on=\"cluster\")\n",
    "data = pd.merge(data,count_action,on=\"cluster\")\n",
    "data.columns =[\"max\",\"mean\",\"var\",\"#actions\"]\n",
    "data.sort_values(\"max\")"
   ]
  },
  {
   "cell_type": "markdown",
   "metadata": {},
   "source": [
    "### Visualize actions in each claster"
   ]
  },
  {
   "cell_type": "code",
   "execution_count": null,
   "metadata": {},
   "outputs": [],
   "source": [
    "for i in range(10):\n",
    "    sub_df = actions_df[actions_df[\"cluster\"]==i]\n",
    "    display(sub_df)"
   ]
  }
 ],
 "metadata": {
  "kernelspec": {
   "display_name": "Python 3",
   "language": "python",
   "name": "python3"
  },
  "language_info": {
   "codemirror_mode": {
    "name": "ipython",
    "version": 3
   },
   "file_extension": ".py",
   "mimetype": "text/x-python",
   "name": "python",
   "nbconvert_exporter": "python",
   "pygments_lexer": "ipython3",
   "version": "3.8.7"
  }
 },
 "nbformat": 4,
 "nbformat_minor": 2
}
